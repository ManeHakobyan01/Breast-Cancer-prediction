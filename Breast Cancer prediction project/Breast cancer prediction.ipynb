{
 "cells": [
  {
   "cell_type": "code",
   "execution_count": 129,
   "metadata": {},
   "outputs": [],
   "source": [
    "import numpy as np\n",
    "import pandas as pd\n",
    "import matplotlib.pyplot as plt\n",
    "import seaborn as sns\n",
    "%matplotlib inline"
   ]
  },
  {
   "cell_type": "code",
   "execution_count": 130,
   "metadata": {},
   "outputs": [
    {
     "data": {
      "text/html": [
       "<div>\n",
       "<style scoped>\n",
       "    .dataframe tbody tr th:only-of-type {\n",
       "        vertical-align: middle;\n",
       "    }\n",
       "\n",
       "    .dataframe tbody tr th {\n",
       "        vertical-align: top;\n",
       "    }\n",
       "\n",
       "    .dataframe thead th {\n",
       "        text-align: right;\n",
       "    }\n",
       "</style>\n",
       "<table border=\"1\" class=\"dataframe\">\n",
       "  <thead>\n",
       "    <tr style=\"text-align: right;\">\n",
       "      <th></th>\n",
       "      <th>1000025</th>\n",
       "      <th>5</th>\n",
       "      <th>1</th>\n",
       "      <th>1.1</th>\n",
       "      <th>1.2</th>\n",
       "      <th>2</th>\n",
       "      <th>1.3</th>\n",
       "      <th>3</th>\n",
       "      <th>1.4</th>\n",
       "      <th>1.5</th>\n",
       "      <th>2.1</th>\n",
       "    </tr>\n",
       "  </thead>\n",
       "  <tbody>\n",
       "    <tr>\n",
       "      <th>0</th>\n",
       "      <td>1002945</td>\n",
       "      <td>5</td>\n",
       "      <td>4</td>\n",
       "      <td>4</td>\n",
       "      <td>5</td>\n",
       "      <td>7</td>\n",
       "      <td>10</td>\n",
       "      <td>3</td>\n",
       "      <td>2</td>\n",
       "      <td>1</td>\n",
       "      <td>2</td>\n",
       "    </tr>\n",
       "    <tr>\n",
       "      <th>1</th>\n",
       "      <td>1015425</td>\n",
       "      <td>3</td>\n",
       "      <td>1</td>\n",
       "      <td>1</td>\n",
       "      <td>1</td>\n",
       "      <td>2</td>\n",
       "      <td>2</td>\n",
       "      <td>3</td>\n",
       "      <td>1</td>\n",
       "      <td>1</td>\n",
       "      <td>2</td>\n",
       "    </tr>\n",
       "    <tr>\n",
       "      <th>2</th>\n",
       "      <td>1016277</td>\n",
       "      <td>6</td>\n",
       "      <td>8</td>\n",
       "      <td>8</td>\n",
       "      <td>1</td>\n",
       "      <td>3</td>\n",
       "      <td>4</td>\n",
       "      <td>3</td>\n",
       "      <td>7</td>\n",
       "      <td>1</td>\n",
       "      <td>2</td>\n",
       "    </tr>\n",
       "    <tr>\n",
       "      <th>3</th>\n",
       "      <td>1017023</td>\n",
       "      <td>4</td>\n",
       "      <td>1</td>\n",
       "      <td>1</td>\n",
       "      <td>3</td>\n",
       "      <td>2</td>\n",
       "      <td>1</td>\n",
       "      <td>3</td>\n",
       "      <td>1</td>\n",
       "      <td>1</td>\n",
       "      <td>2</td>\n",
       "    </tr>\n",
       "    <tr>\n",
       "      <th>4</th>\n",
       "      <td>1017122</td>\n",
       "      <td>8</td>\n",
       "      <td>10</td>\n",
       "      <td>10</td>\n",
       "      <td>8</td>\n",
       "      <td>7</td>\n",
       "      <td>10</td>\n",
       "      <td>9</td>\n",
       "      <td>7</td>\n",
       "      <td>1</td>\n",
       "      <td>4</td>\n",
       "    </tr>\n",
       "  </tbody>\n",
       "</table>\n",
       "</div>"
      ],
      "text/plain": [
       "   1000025  5   1  1.1  1.2  2 1.3  3  1.4  1.5  2.1\n",
       "0  1002945  5   4    4    5  7  10  3    2    1    2\n",
       "1  1015425  3   1    1    1  2   2  3    1    1    2\n",
       "2  1016277  6   8    8    1  3   4  3    7    1    2\n",
       "3  1017023  4   1    1    3  2   1  3    1    1    2\n",
       "4  1017122  8  10   10    8  7  10  9    7    1    4"
      ]
     },
     "execution_count": 130,
     "metadata": {},
     "output_type": "execute_result"
    }
   ],
   "source": [
    "df = pd.read_csv(\"breast-cancer-wisconsin.txt\",header = 0)\n",
    "df.head()"
   ]
  },
  {
   "cell_type": "code",
   "execution_count": 131,
   "metadata": {},
   "outputs": [],
   "source": [
    "column_names = ['ID', 'Clump Thickness', 'Uniformity of Cell Size', 'Uniformity of Cell Shape', 'Marginal Adhesion', 'Single Epithelial Cell Size', 'Bare Nuclei', 'Bland Chromatin', 'Normal Nucleoli', 'Mitoses', 'Diagnosis']"
   ]
  },
  {
   "cell_type": "code",
   "execution_count": 132,
   "metadata": {},
   "outputs": [],
   "source": [
    "df.columns = column_names"
   ]
  },
  {
   "cell_type": "code",
   "execution_count": 197,
   "metadata": {},
   "outputs": [
    {
     "data": {
      "text/html": [
       "<div>\n",
       "<style scoped>\n",
       "    .dataframe tbody tr th:only-of-type {\n",
       "        vertical-align: middle;\n",
       "    }\n",
       "\n",
       "    .dataframe tbody tr th {\n",
       "        vertical-align: top;\n",
       "    }\n",
       "\n",
       "    .dataframe thead th {\n",
       "        text-align: right;\n",
       "    }\n",
       "</style>\n",
       "<table border=\"1\" class=\"dataframe\">\n",
       "  <thead>\n",
       "    <tr style=\"text-align: right;\">\n",
       "      <th></th>\n",
       "      <th>Clump Thickness</th>\n",
       "      <th>Uniformity of Cell Size</th>\n",
       "      <th>Uniformity of Cell Shape</th>\n",
       "      <th>Marginal Adhesion</th>\n",
       "      <th>Single Epithelial Cell Size</th>\n",
       "      <th>Bare Nuclei</th>\n",
       "      <th>Bland Chromatin</th>\n",
       "      <th>Normal Nucleoli</th>\n",
       "      <th>Mitoses</th>\n",
       "      <th>Diagnosis</th>\n",
       "    </tr>\n",
       "  </thead>\n",
       "  <tbody>\n",
       "    <tr>\n",
       "      <th>0</th>\n",
       "      <td>5</td>\n",
       "      <td>4</td>\n",
       "      <td>4</td>\n",
       "      <td>5</td>\n",
       "      <td>7</td>\n",
       "      <td>10</td>\n",
       "      <td>3</td>\n",
       "      <td>2</td>\n",
       "      <td>1</td>\n",
       "      <td>0</td>\n",
       "    </tr>\n",
       "    <tr>\n",
       "      <th>1</th>\n",
       "      <td>3</td>\n",
       "      <td>1</td>\n",
       "      <td>1</td>\n",
       "      <td>1</td>\n",
       "      <td>2</td>\n",
       "      <td>2</td>\n",
       "      <td>3</td>\n",
       "      <td>1</td>\n",
       "      <td>1</td>\n",
       "      <td>0</td>\n",
       "    </tr>\n",
       "    <tr>\n",
       "      <th>2</th>\n",
       "      <td>6</td>\n",
       "      <td>8</td>\n",
       "      <td>8</td>\n",
       "      <td>1</td>\n",
       "      <td>3</td>\n",
       "      <td>4</td>\n",
       "      <td>3</td>\n",
       "      <td>7</td>\n",
       "      <td>1</td>\n",
       "      <td>0</td>\n",
       "    </tr>\n",
       "    <tr>\n",
       "      <th>3</th>\n",
       "      <td>4</td>\n",
       "      <td>1</td>\n",
       "      <td>1</td>\n",
       "      <td>3</td>\n",
       "      <td>2</td>\n",
       "      <td>1</td>\n",
       "      <td>3</td>\n",
       "      <td>1</td>\n",
       "      <td>1</td>\n",
       "      <td>0</td>\n",
       "    </tr>\n",
       "    <tr>\n",
       "      <th>4</th>\n",
       "      <td>8</td>\n",
       "      <td>10</td>\n",
       "      <td>10</td>\n",
       "      <td>8</td>\n",
       "      <td>7</td>\n",
       "      <td>10</td>\n",
       "      <td>9</td>\n",
       "      <td>7</td>\n",
       "      <td>1</td>\n",
       "      <td>1</td>\n",
       "    </tr>\n",
       "    <tr>\n",
       "      <th>...</th>\n",
       "      <td>...</td>\n",
       "      <td>...</td>\n",
       "      <td>...</td>\n",
       "      <td>...</td>\n",
       "      <td>...</td>\n",
       "      <td>...</td>\n",
       "      <td>...</td>\n",
       "      <td>...</td>\n",
       "      <td>...</td>\n",
       "      <td>...</td>\n",
       "    </tr>\n",
       "    <tr>\n",
       "      <th>693</th>\n",
       "      <td>3</td>\n",
       "      <td>1</td>\n",
       "      <td>1</td>\n",
       "      <td>1</td>\n",
       "      <td>3</td>\n",
       "      <td>2</td>\n",
       "      <td>1</td>\n",
       "      <td>1</td>\n",
       "      <td>1</td>\n",
       "      <td>0</td>\n",
       "    </tr>\n",
       "    <tr>\n",
       "      <th>694</th>\n",
       "      <td>2</td>\n",
       "      <td>1</td>\n",
       "      <td>1</td>\n",
       "      <td>1</td>\n",
       "      <td>2</td>\n",
       "      <td>1</td>\n",
       "      <td>1</td>\n",
       "      <td>1</td>\n",
       "      <td>1</td>\n",
       "      <td>0</td>\n",
       "    </tr>\n",
       "    <tr>\n",
       "      <th>695</th>\n",
       "      <td>5</td>\n",
       "      <td>10</td>\n",
       "      <td>10</td>\n",
       "      <td>3</td>\n",
       "      <td>7</td>\n",
       "      <td>3</td>\n",
       "      <td>8</td>\n",
       "      <td>10</td>\n",
       "      <td>2</td>\n",
       "      <td>1</td>\n",
       "    </tr>\n",
       "    <tr>\n",
       "      <th>696</th>\n",
       "      <td>4</td>\n",
       "      <td>8</td>\n",
       "      <td>6</td>\n",
       "      <td>4</td>\n",
       "      <td>3</td>\n",
       "      <td>4</td>\n",
       "      <td>10</td>\n",
       "      <td>6</td>\n",
       "      <td>1</td>\n",
       "      <td>1</td>\n",
       "    </tr>\n",
       "    <tr>\n",
       "      <th>697</th>\n",
       "      <td>4</td>\n",
       "      <td>8</td>\n",
       "      <td>8</td>\n",
       "      <td>5</td>\n",
       "      <td>4</td>\n",
       "      <td>5</td>\n",
       "      <td>10</td>\n",
       "      <td>4</td>\n",
       "      <td>1</td>\n",
       "      <td>1</td>\n",
       "    </tr>\n",
       "  </tbody>\n",
       "</table>\n",
       "<p>682 rows × 10 columns</p>\n",
       "</div>"
      ],
      "text/plain": [
       "     Clump Thickness  Uniformity of Cell Size  Uniformity of Cell Shape  \\\n",
       "0                  5                        4                         4   \n",
       "1                  3                        1                         1   \n",
       "2                  6                        8                         8   \n",
       "3                  4                        1                         1   \n",
       "4                  8                       10                        10   \n",
       "..               ...                      ...                       ...   \n",
       "693                3                        1                         1   \n",
       "694                2                        1                         1   \n",
       "695                5                       10                        10   \n",
       "696                4                        8                         6   \n",
       "697                4                        8                         8   \n",
       "\n",
       "     Marginal Adhesion  Single Epithelial Cell Size Bare Nuclei  \\\n",
       "0                    5                            7          10   \n",
       "1                    1                            2           2   \n",
       "2                    1                            3           4   \n",
       "3                    3                            2           1   \n",
       "4                    8                            7          10   \n",
       "..                 ...                          ...         ...   \n",
       "693                  1                            3           2   \n",
       "694                  1                            2           1   \n",
       "695                  3                            7           3   \n",
       "696                  4                            3           4   \n",
       "697                  5                            4           5   \n",
       "\n",
       "     Bland Chromatin  Normal Nucleoli  Mitoses  Diagnosis  \n",
       "0                  3                2        1          0  \n",
       "1                  3                1        1          0  \n",
       "2                  3                7        1          0  \n",
       "3                  3                1        1          0  \n",
       "4                  9                7        1          1  \n",
       "..               ...              ...      ...        ...  \n",
       "693                1                1        1          0  \n",
       "694                1                1        1          0  \n",
       "695                8               10        2          1  \n",
       "696               10                6        1          1  \n",
       "697               10                4        1          1  \n",
       "\n",
       "[682 rows x 10 columns]"
      ]
     },
     "execution_count": 197,
     "metadata": {},
     "output_type": "execute_result"
    }
   ],
   "source": [
    "df"
   ]
  },
  {
   "cell_type": "code",
   "execution_count": 134,
   "metadata": {},
   "outputs": [],
   "source": [
    "df.drop('ID', axis = 1, inplace = True)"
   ]
  },
  {
   "cell_type": "code",
   "execution_count": 135,
   "metadata": {},
   "outputs": [
    {
     "data": {
      "text/plain": [
       "(698, 10)"
      ]
     },
     "execution_count": 135,
     "metadata": {},
     "output_type": "execute_result"
    }
   ],
   "source": [
    "df.shape"
   ]
  },
  {
   "cell_type": "code",
   "execution_count": 136,
   "metadata": {},
   "outputs": [
    {
     "data": {
      "text/plain": [
       "Clump Thickness                0\n",
       "Uniformity of Cell Size        0\n",
       "Uniformity of Cell Shape       0\n",
       "Marginal Adhesion              0\n",
       "Single Epithelial Cell Size    0\n",
       "Bare Nuclei                    0\n",
       "Bland Chromatin                0\n",
       "Normal Nucleoli                0\n",
       "Mitoses                        0\n",
       "Diagnosis                      0\n",
       "dtype: int64"
      ]
     },
     "execution_count": 136,
     "metadata": {},
     "output_type": "execute_result"
    }
   ],
   "source": [
    "df.isna().sum()"
   ]
  },
  {
   "cell_type": "code",
   "execution_count": 143,
   "metadata": {},
   "outputs": [],
   "source": [
    "df.drop(df.loc[df['Bare Nuclei'] == '?'].index, inplace = True)"
   ]
  },
  {
   "cell_type": "code",
   "execution_count": 148,
   "metadata": {},
   "outputs": [],
   "source": [
    "df[\"Diagnosis\"] = df['Diagnosis'].eq(4).mul(1)"
   ]
  },
  {
   "cell_type": "code",
   "execution_count": 149,
   "metadata": {},
   "outputs": [
    {
     "name": "stdout",
     "output_type": "stream",
     "text": [
      "<class 'pandas.core.frame.DataFrame'>\n",
      "Int64Index: 682 entries, 0 to 697\n",
      "Data columns (total 10 columns):\n",
      " #   Column                       Non-Null Count  Dtype \n",
      "---  ------                       --------------  ----- \n",
      " 0   Clump Thickness              682 non-null    int64 \n",
      " 1   Uniformity of Cell Size      682 non-null    int64 \n",
      " 2   Uniformity of Cell Shape     682 non-null    int64 \n",
      " 3   Marginal Adhesion            682 non-null    int64 \n",
      " 4   Single Epithelial Cell Size  682 non-null    int64 \n",
      " 5   Bare Nuclei                  682 non-null    object\n",
      " 6   Bland Chromatin              682 non-null    int64 \n",
      " 7   Normal Nucleoli              682 non-null    int64 \n",
      " 8   Mitoses                      682 non-null    int64 \n",
      " 9   Diagnosis                    682 non-null    int32 \n",
      "dtypes: int32(1), int64(8), object(1)\n",
      "memory usage: 55.9+ KB\n"
     ]
    }
   ],
   "source": [
    "df.info()"
   ]
  },
  {
   "cell_type": "code",
   "execution_count": 150,
   "metadata": {},
   "outputs": [
    {
     "data": {
      "image/png": "[encoded data removed]",
      "text/plain": [
       "<Figure size 432x288 with 1 Axes>"
      ]
     },
     "metadata": {
      "needs_background": "light"
     },
     "output_type": "display_data"
    }
   ],
   "source": [
    "sns.countplot(x='Diagnosis',data=df);"
   ]
  },
  {
   "cell_type": "code",
   "execution_count": 151,
   "metadata": {},
   "outputs": [
    {
     "data": {
      "text/plain": [
       "0    443\n",
       "1    239\n",
       "Name: Diagnosis, dtype: int64"
      ]
     },
     "execution_count": 151,
     "metadata": {},
     "output_type": "execute_result"
    }
   ],
   "source": [
    "df['Diagnosis'].value_counts()"
   ]
  },
  {
   "cell_type": "code",
   "execution_count": 152,
   "metadata": {},
   "outputs": [
    {
     "name": "stderr",
     "output_type": "stream",
     "text": [
      "<ipython-input-152-60bde500c8bb>:3: UserWarning: To output multiple subplots, the figure containing the passed axes is being cleared\n",
      "  df.hist(ax = ax)\n"
     ]
    },
    {
     "data": {
      "image/png": "[encoded data removed]",
      "text/plain": [
       "<Figure size 1080x1440 with 9 Axes>"
      ]
     },
     "metadata": {
      "needs_background": "light"
     },
     "output_type": "display_data"
    }
   ],
   "source": [
    "fig = plt.figure(figsize = (15,20))\n",
    "ax = fig.gca()\n",
    "df.hist(ax = ax)\n",
    "plt.show()"
   ]
  },
  {
   "cell_type": "code",
   "execution_count": 153,
   "metadata": {},
   "outputs": [],
   "source": [
    "y = df['Diagnosis']"
   ]
  },
  {
   "cell_type": "code",
   "execution_count": 154,
   "metadata": {},
   "outputs": [],
   "source": [
    "corr_matrix = df.corr()"
   ]
  },
  {
   "cell_type": "code",
   "execution_count": 155,
   "metadata": {},
   "outputs": [
    {
     "data": {
      "text/html": [
       "<div>\n",
       "<style scoped>\n",
       "    .dataframe tbody tr th:only-of-type {\n",
       "        vertical-align: middle;\n",
       "    }\n",
       "\n",
       "    .dataframe tbody tr th {\n",
       "        vertical-align: top;\n",
       "    }\n",
       "\n",
       "    .dataframe thead th {\n",
       "        text-align: right;\n",
       "    }\n",
       "</style>\n",
       "<table border=\"1\" class=\"dataframe\">\n",
       "  <thead>\n",
       "    <tr style=\"text-align: right;\">\n",
       "      <th></th>\n",
       "      <th>Clump Thickness</th>\n",
       "      <th>Uniformity of Cell Size</th>\n",
       "      <th>Uniformity of Cell Shape</th>\n",
       "      <th>Marginal Adhesion</th>\n",
       "      <th>Single Epithelial Cell Size</th>\n",
       "      <th>Bland Chromatin</th>\n",
       "      <th>Normal Nucleoli</th>\n",
       "      <th>Mitoses</th>\n",
       "      <th>Diagnosis</th>\n",
       "    </tr>\n",
       "  </thead>\n",
       "  <tbody>\n",
       "    <tr>\n",
       "      <th>Clump Thickness</th>\n",
       "      <td>1.000000</td>\n",
       "      <td>0.642936</td>\n",
       "      <td>0.653968</td>\n",
       "      <td>0.488175</td>\n",
       "      <td>0.523891</td>\n",
       "      <td>0.553825</td>\n",
       "      <td>0.534406</td>\n",
       "      <td>0.351100</td>\n",
       "      <td>0.715306</td>\n",
       "    </tr>\n",
       "    <tr>\n",
       "      <th>Uniformity of Cell Size</th>\n",
       "      <td>0.642936</td>\n",
       "      <td>1.000000</td>\n",
       "      <td>0.907158</td>\n",
       "      <td>0.706786</td>\n",
       "      <td>0.753415</td>\n",
       "      <td>0.755663</td>\n",
       "      <td>0.719173</td>\n",
       "      <td>0.460603</td>\n",
       "      <td>0.820667</td>\n",
       "    </tr>\n",
       "    <tr>\n",
       "      <th>Uniformity of Cell Shape</th>\n",
       "      <td>0.653968</td>\n",
       "      <td>0.907158</td>\n",
       "      <td>1.000000</td>\n",
       "      <td>0.685735</td>\n",
       "      <td>0.722313</td>\n",
       "      <td>0.735460</td>\n",
       "      <td>0.717784</td>\n",
       "      <td>0.441096</td>\n",
       "      <td>0.821749</td>\n",
       "    </tr>\n",
       "    <tr>\n",
       "      <th>Marginal Adhesion</th>\n",
       "      <td>0.488175</td>\n",
       "      <td>0.706786</td>\n",
       "      <td>0.685735</td>\n",
       "      <td>1.000000</td>\n",
       "      <td>0.594340</td>\n",
       "      <td>0.668613</td>\n",
       "      <td>0.602893</td>\n",
       "      <td>0.418734</td>\n",
       "      <td>0.706097</td>\n",
       "    </tr>\n",
       "    <tr>\n",
       "      <th>Single Epithelial Cell Size</th>\n",
       "      <td>0.523891</td>\n",
       "      <td>0.753415</td>\n",
       "      <td>0.722313</td>\n",
       "      <td>0.594340</td>\n",
       "      <td>1.000000</td>\n",
       "      <td>0.618135</td>\n",
       "      <td>0.628743</td>\n",
       "      <td>0.480451</td>\n",
       "      <td>0.690789</td>\n",
       "    </tr>\n",
       "    <tr>\n",
       "      <th>Bland Chromatin</th>\n",
       "      <td>0.553825</td>\n",
       "      <td>0.755663</td>\n",
       "      <td>0.735460</td>\n",
       "      <td>0.668613</td>\n",
       "      <td>0.618135</td>\n",
       "      <td>1.000000</td>\n",
       "      <td>0.665638</td>\n",
       "      <td>0.345957</td>\n",
       "      <td>0.758350</td>\n",
       "    </tr>\n",
       "    <tr>\n",
       "      <th>Normal Nucleoli</th>\n",
       "      <td>0.534406</td>\n",
       "      <td>0.719173</td>\n",
       "      <td>0.717784</td>\n",
       "      <td>0.602893</td>\n",
       "      <td>0.628743</td>\n",
       "      <td>0.665638</td>\n",
       "      <td>1.000000</td>\n",
       "      <td>0.433602</td>\n",
       "      <td>0.718499</td>\n",
       "    </tr>\n",
       "    <tr>\n",
       "      <th>Mitoses</th>\n",
       "      <td>0.351100</td>\n",
       "      <td>0.460603</td>\n",
       "      <td>0.441096</td>\n",
       "      <td>0.418734</td>\n",
       "      <td>0.480451</td>\n",
       "      <td>0.345957</td>\n",
       "      <td>0.433602</td>\n",
       "      <td>1.000000</td>\n",
       "      <td>0.423278</td>\n",
       "    </tr>\n",
       "    <tr>\n",
       "      <th>Diagnosis</th>\n",
       "      <td>0.715306</td>\n",
       "      <td>0.820667</td>\n",
       "      <td>0.821749</td>\n",
       "      <td>0.706097</td>\n",
       "      <td>0.690789</td>\n",
       "      <td>0.758350</td>\n",
       "      <td>0.718499</td>\n",
       "      <td>0.423278</td>\n",
       "      <td>1.000000</td>\n",
       "    </tr>\n",
       "  </tbody>\n",
       "</table>\n",
       "</div>"
      ],
      "text/plain": [
       "                             Clump Thickness  Uniformity of Cell Size  \\\n",
       "Clump Thickness                     1.000000                 0.642936   \n",
       "Uniformity of Cell Size             0.642936                 1.000000   \n",
       "Uniformity of Cell Shape            0.653968                 0.907158   \n",
       "Marginal Adhesion                   0.488175                 0.706786   \n",
       "Single Epithelial Cell Size         0.523891                 0.753415   \n",
       "Bland Chromatin                     0.553825                 0.755663   \n",
       "Normal Nucleoli                     0.534406                 0.719173   \n",
       "Mitoses                             0.351100                 0.460603   \n",
       "Diagnosis                           0.715306                 0.820667   \n",
       "\n",
       "                             Uniformity of Cell Shape  Marginal Adhesion  \\\n",
       "Clump Thickness                              0.653968           0.488175   \n",
       "Uniformity of Cell Size                      0.907158           0.706786   \n",
       "Uniformity of Cell Shape                     1.000000           0.685735   \n",
       "Marginal Adhesion                            0.685735           1.000000   \n",
       "Single Epithelial Cell Size                  0.722313           0.594340   \n",
       "Bland Chromatin                              0.735460           0.668613   \n",
       "Normal Nucleoli                              0.717784           0.602893   \n",
       "Mitoses                                      0.441096           0.418734   \n",
       "Diagnosis                                    0.821749           0.706097   \n",
       "\n",
       "                             Single Epithelial Cell Size  Bland Chromatin  \\\n",
       "Clump Thickness                                 0.523891         0.553825   \n",
       "Uniformity of Cell Size                         0.753415         0.755663   \n",
       "Uniformity of Cell Shape                        0.722313         0.735460   \n",
       "Marginal Adhesion                               0.594340         0.668613   \n",
       "Single Epithelial Cell Size                     1.000000         0.618135   \n",
       "Bland Chromatin                                 0.618135         1.000000   \n",
       "Normal Nucleoli                                 0.628743         0.665638   \n",
       "Mitoses                                         0.480451         0.345957   \n",
       "Diagnosis                                       0.690789         0.758350   \n",
       "\n",
       "                             Normal Nucleoli   Mitoses  Diagnosis  \n",
       "Clump Thickness                     0.534406  0.351100   0.715306  \n",
       "Uniformity of Cell Size             0.719173  0.460603   0.820667  \n",
       "Uniformity of Cell Shape            0.717784  0.441096   0.821749  \n",
       "Marginal Adhesion                   0.602893  0.418734   0.706097  \n",
       "Single Epithelial Cell Size         0.628743  0.480451   0.690789  \n",
       "Bland Chromatin                     0.665638  0.345957   0.758350  \n",
       "Normal Nucleoli                     1.000000  0.433602   0.718499  \n",
       "Mitoses                             0.433602  1.000000   0.423278  \n",
       "Diagnosis                           0.718499  0.423278   1.000000  "
      ]
     },
     "execution_count": 155,
     "metadata": {},
     "output_type": "execute_result"
    }
   ],
   "source": [
    "corr_matrix"
   ]
  },
  {
   "cell_type": "code",
   "execution_count": 156,
   "metadata": {},
   "outputs": [],
   "source": [
    "corr_target = abs(corr_matrix[\"Diagnosis\"])"
   ]
  },
  {
   "cell_type": "code",
   "execution_count": 157,
   "metadata": {},
   "outputs": [],
   "source": [
    "relevant_features = corr_target[corr_target>0.5]"
   ]
  },
  {
   "cell_type": "code",
   "execution_count": 158,
   "metadata": {},
   "outputs": [
    {
     "data": {
      "text/plain": [
       "Clump Thickness                0.715306\n",
       "Uniformity of Cell Size        0.820667\n",
       "Uniformity of Cell Shape       0.821749\n",
       "Marginal Adhesion              0.706097\n",
       "Single Epithelial Cell Size    0.690789\n",
       "Bland Chromatin                0.758350\n",
       "Normal Nucleoli                0.718499\n",
       "Diagnosis                      1.000000\n",
       "Name: Diagnosis, dtype: float64"
      ]
     },
     "execution_count": 158,
     "metadata": {},
     "output_type": "execute_result"
    }
   ],
   "source": [
    "relevant_features"
   ]
  },
  {
   "cell_type": "code",
   "execution_count": 159,
   "metadata": {},
   "outputs": [],
   "source": [
    "new_cor_matrix = df.drop(['Diagnosis', 'Mitoses'], axis = 1).corr()"
   ]
  },
  {
   "cell_type": "code",
   "execution_count": 160,
   "metadata": {},
   "outputs": [
    {
     "data": {
      "text/html": [
       "<div>\n",
       "<style scoped>\n",
       "    .dataframe tbody tr th:only-of-type {\n",
       "        vertical-align: middle;\n",
       "    }\n",
       "\n",
       "    .dataframe tbody tr th {\n",
       "        vertical-align: top;\n",
       "    }\n",
       "\n",
       "    .dataframe thead th {\n",
       "        text-align: right;\n",
       "    }\n",
       "</style>\n",
       "<table border=\"1\" class=\"dataframe\">\n",
       "  <thead>\n",
       "    <tr style=\"text-align: right;\">\n",
       "      <th></th>\n",
       "      <th>Clump Thickness</th>\n",
       "      <th>Uniformity of Cell Size</th>\n",
       "      <th>Uniformity of Cell Shape</th>\n",
       "      <th>Marginal Adhesion</th>\n",
       "      <th>Single Epithelial Cell Size</th>\n",
       "      <th>Bland Chromatin</th>\n",
       "      <th>Normal Nucleoli</th>\n",
       "    </tr>\n",
       "  </thead>\n",
       "  <tbody>\n",
       "    <tr>\n",
       "      <th>Clump Thickness</th>\n",
       "      <td>1.000000</td>\n",
       "      <td>0.642936</td>\n",
       "      <td>0.653968</td>\n",
       "      <td>0.488175</td>\n",
       "      <td>0.523891</td>\n",
       "      <td>0.553825</td>\n",
       "      <td>0.534406</td>\n",
       "    </tr>\n",
       "    <tr>\n",
       "      <th>Uniformity of Cell Size</th>\n",
       "      <td>0.642936</td>\n",
       "      <td>1.000000</td>\n",
       "      <td>0.907158</td>\n",
       "      <td>0.706786</td>\n",
       "      <td>0.753415</td>\n",
       "      <td>0.755663</td>\n",
       "      <td>0.719173</td>\n",
       "    </tr>\n",
       "    <tr>\n",
       "      <th>Uniformity of Cell Shape</th>\n",
       "      <td>0.653968</td>\n",
       "      <td>0.907158</td>\n",
       "      <td>1.000000</td>\n",
       "      <td>0.685735</td>\n",
       "      <td>0.722313</td>\n",
       "      <td>0.735460</td>\n",
       "      <td>0.717784</td>\n",
       "    </tr>\n",
       "    <tr>\n",
       "      <th>Marginal Adhesion</th>\n",
       "      <td>0.488175</td>\n",
       "      <td>0.706786</td>\n",
       "      <td>0.685735</td>\n",
       "      <td>1.000000</td>\n",
       "      <td>0.594340</td>\n",
       "      <td>0.668613</td>\n",
       "      <td>0.602893</td>\n",
       "    </tr>\n",
       "    <tr>\n",
       "      <th>Single Epithelial Cell Size</th>\n",
       "      <td>0.523891</td>\n",
       "      <td>0.753415</td>\n",
       "      <td>0.722313</td>\n",
       "      <td>0.594340</td>\n",
       "      <td>1.000000</td>\n",
       "      <td>0.618135</td>\n",
       "      <td>0.628743</td>\n",
       "    </tr>\n",
       "    <tr>\n",
       "      <th>Bland Chromatin</th>\n",
       "      <td>0.553825</td>\n",
       "      <td>0.755663</td>\n",
       "      <td>0.735460</td>\n",
       "      <td>0.668613</td>\n",
       "      <td>0.618135</td>\n",
       "      <td>1.000000</td>\n",
       "      <td>0.665638</td>\n",
       "    </tr>\n",
       "    <tr>\n",
       "      <th>Normal Nucleoli</th>\n",
       "      <td>0.534406</td>\n",
       "      <td>0.719173</td>\n",
       "      <td>0.717784</td>\n",
       "      <td>0.602893</td>\n",
       "      <td>0.628743</td>\n",
       "      <td>0.665638</td>\n",
       "      <td>1.000000</td>\n",
       "    </tr>\n",
       "  </tbody>\n",
       "</table>\n",
       "</div>"
      ],
      "text/plain": [
       "                             Clump Thickness  Uniformity of Cell Size  \\\n",
       "Clump Thickness                     1.000000                 0.642936   \n",
       "Uniformity of Cell Size             0.642936                 1.000000   \n",
       "Uniformity of Cell Shape            0.653968                 0.907158   \n",
       "Marginal Adhesion                   0.488175                 0.706786   \n",
       "Single Epithelial Cell Size         0.523891                 0.753415   \n",
       "Bland Chromatin                     0.553825                 0.755663   \n",
       "Normal Nucleoli                     0.534406                 0.719173   \n",
       "\n",
       "                             Uniformity of Cell Shape  Marginal Adhesion  \\\n",
       "Clump Thickness                              0.653968           0.488175   \n",
       "Uniformity of Cell Size                      0.907158           0.706786   \n",
       "Uniformity of Cell Shape                     1.000000           0.685735   \n",
       "Marginal Adhesion                            0.685735           1.000000   \n",
       "Single Epithelial Cell Size                  0.722313           0.594340   \n",
       "Bland Chromatin                              0.735460           0.668613   \n",
       "Normal Nucleoli                              0.717784           0.602893   \n",
       "\n",
       "                             Single Epithelial Cell Size  Bland Chromatin  \\\n",
       "Clump Thickness                                 0.523891         0.553825   \n",
       "Uniformity of Cell Size                         0.753415         0.755663   \n",
       "Uniformity of Cell Shape                        0.722313         0.735460   \n",
       "Marginal Adhesion                               0.594340         0.668613   \n",
       "Single Epithelial Cell Size                     1.000000         0.618135   \n",
       "Bland Chromatin                                 0.618135         1.000000   \n",
       "Normal Nucleoli                                 0.628743         0.665638   \n",
       "\n",
       "                             Normal Nucleoli  \n",
       "Clump Thickness                     0.534406  \n",
       "Uniformity of Cell Size             0.719173  \n",
       "Uniformity of Cell Shape            0.717784  \n",
       "Marginal Adhesion                   0.602893  \n",
       "Single Epithelial Cell Size         0.628743  \n",
       "Bland Chromatin                     0.665638  \n",
       "Normal Nucleoli                     1.000000  "
      ]
     },
     "execution_count": 160,
     "metadata": {},
     "output_type": "execute_result"
    }
   ],
   "source": [
    "new_cor_matrix"
   ]
  },
  {
   "cell_type": "code",
   "execution_count": 161,
   "metadata": {},
   "outputs": [],
   "source": [
    "#As the correlation between Uniformity of Cell Size and Uniformity of Cell Shape is greater than 90\n",
    "#We will use only Uniformity of Cell Shape, as the correlation betweern Uniformity of Cell Shape and Diagnosis is greater.\n",
    "X = df.drop(['Diagnosis', 'Uniformity of Cell Size', 'Mitoses'], axis = 1)"
   ]
  },
  {
   "cell_type": "code",
   "execution_count": 162,
   "metadata": {},
   "outputs": [
    {
     "data": {
      "text/html": [
       "<div>\n",
       "<style scoped>\n",
       "    .dataframe tbody tr th:only-of-type {\n",
       "        vertical-align: middle;\n",
       "    }\n",
       "\n",
       "    .dataframe tbody tr th {\n",
       "        vertical-align: top;\n",
       "    }\n",
       "\n",
       "    .dataframe thead th {\n",
       "        text-align: right;\n",
       "    }\n",
       "</style>\n",
       "<table border=\"1\" class=\"dataframe\">\n",
       "  <thead>\n",
       "    <tr style=\"text-align: right;\">\n",
       "      <th></th>\n",
       "      <th>Clump Thickness</th>\n",
       "      <th>Uniformity of Cell Shape</th>\n",
       "      <th>Marginal Adhesion</th>\n",
       "      <th>Single Epithelial Cell Size</th>\n",
       "      <th>Bare Nuclei</th>\n",
       "      <th>Bland Chromatin</th>\n",
       "      <th>Normal Nucleoli</th>\n",
       "    </tr>\n",
       "  </thead>\n",
       "  <tbody>\n",
       "    <tr>\n",
       "      <th>0</th>\n",
       "      <td>5</td>\n",
       "      <td>4</td>\n",
       "      <td>5</td>\n",
       "      <td>7</td>\n",
       "      <td>10</td>\n",
       "      <td>3</td>\n",
       "      <td>2</td>\n",
       "    </tr>\n",
       "    <tr>\n",
       "      <th>1</th>\n",
       "      <td>3</td>\n",
       "      <td>1</td>\n",
       "      <td>1</td>\n",
       "      <td>2</td>\n",
       "      <td>2</td>\n",
       "      <td>3</td>\n",
       "      <td>1</td>\n",
       "    </tr>\n",
       "    <tr>\n",
       "      <th>2</th>\n",
       "      <td>6</td>\n",
       "      <td>8</td>\n",
       "      <td>1</td>\n",
       "      <td>3</td>\n",
       "      <td>4</td>\n",
       "      <td>3</td>\n",
       "      <td>7</td>\n",
       "    </tr>\n",
       "    <tr>\n",
       "      <th>3</th>\n",
       "      <td>4</td>\n",
       "      <td>1</td>\n",
       "      <td>3</td>\n",
       "      <td>2</td>\n",
       "      <td>1</td>\n",
       "      <td>3</td>\n",
       "      <td>1</td>\n",
       "    </tr>\n",
       "    <tr>\n",
       "      <th>4</th>\n",
       "      <td>8</td>\n",
       "      <td>10</td>\n",
       "      <td>8</td>\n",
       "      <td>7</td>\n",
       "      <td>10</td>\n",
       "      <td>9</td>\n",
       "      <td>7</td>\n",
       "    </tr>\n",
       "  </tbody>\n",
       "</table>\n",
       "</div>"
      ],
      "text/plain": [
       "   Clump Thickness  Uniformity of Cell Shape  Marginal Adhesion  \\\n",
       "0                5                         4                  5   \n",
       "1                3                         1                  1   \n",
       "2                6                         8                  1   \n",
       "3                4                         1                  3   \n",
       "4                8                        10                  8   \n",
       "\n",
       "   Single Epithelial Cell Size Bare Nuclei  Bland Chromatin  Normal Nucleoli  \n",
       "0                            7          10                3                2  \n",
       "1                            2           2                3                1  \n",
       "2                            3           4                3                7  \n",
       "3                            2           1                3                1  \n",
       "4                            7          10                9                7  "
      ]
     },
     "execution_count": 162,
     "metadata": {},
     "output_type": "execute_result"
    }
   ],
   "source": [
    "X.head()"
   ]
  },
  {
   "cell_type": "code",
   "execution_count": 163,
   "metadata": {},
   "outputs": [
    {
     "name": "stdout",
     "output_type": "stream",
     "text": [
      "Accuracy is:  0.975609756097561\n"
     ]
    },
    {
     "data": {
      "text/plain": [
       "<AxesSubplot:>"
      ]
     },
     "execution_count": 163,
     "metadata": {},
     "output_type": "execute_result"
    },
    {
     "data": {
      "image/png": "[encoded data removed]",
      "text/plain": [
       "<Figure size 432x288 with 2 Axes>"
      ]
     },
     "metadata": {
      "needs_background": "light"
     },
     "output_type": "display_data"
    }
   ],
   "source": [
    "#Random forest\n",
    "from sklearn.model_selection import train_test_split, cross_val_score\n",
    "from sklearn.ensemble import RandomForestClassifier\n",
    "from sklearn.metrics import f1_score,confusion_matrix\n",
    "from sklearn.metrics import accuracy_score\n",
    "\n",
    "x_train, x_test, y_train, y_test = train_test_split(X, y, test_size=0.3, random_state=42)\n",
    "\n",
    "clf_rf = RandomForestClassifier(random_state=43)      \n",
    "clr_rf = clf_rf.fit(x_train,y_train)\n",
    "\n",
    "ac = accuracy_score(y_test,clf_rf.predict(x_test))\n",
    "print('Accuracy is: ',ac)\n",
    "cm = confusion_matrix(y_test,clf_rf.predict(x_test))\n",
    "sns.heatmap(cm,annot=True,fmt=\"d\")"
   ]
  },
  {
   "cell_type": "code",
   "execution_count": 183,
   "metadata": {},
   "outputs": [
    {
     "name": "stdout",
     "output_type": "stream",
     "text": [
      "Accuracy of logistic regression classifier on test set: 0.98\n"
     ]
    }
   ],
   "source": [
    "\n",
    "print('Accuracy of logistic regression classifier on test set: {:.2f}'.format(clf_rf.score(x_test, y_test)))"
   ]
  },
  {
   "cell_type": "code",
   "execution_count": 164,
   "metadata": {},
   "outputs": [
    {
     "name": "stdout",
     "output_type": "stream",
     "text": [
      "[0.91240876 0.94890511 0.98529412 0.98529412 0.98529412]\n"
     ]
    }
   ],
   "source": [
    "score_rf = cross_val_score(clf_rf,X,y, scoring='accuracy')\n",
    "print(score_rf)"
   ]
  },
  {
   "cell_type": "code",
   "execution_count": 165,
   "metadata": {},
   "outputs": [
    {
     "name": "stdout",
     "output_type": "stream",
     "text": [
      "0.96 accuracy with a standard deviation of 0.03\n"
     ]
    }
   ],
   "source": [
    "print(\"%0.2f accuracy with a standard deviation of %0.2f\" % (score_rf.mean(), score_rf.std()))"
   ]
  },
  {
   "cell_type": "code",
   "execution_count": 166,
   "metadata": {},
   "outputs": [
    {
     "name": "stdout",
     "output_type": "stream",
     "text": [
      "              precision    recall  f1-score   support\n",
      "\n",
      "           0       0.98      0.99      0.98       136\n",
      "           1       0.97      0.96      0.96        69\n",
      "\n",
      "    accuracy                           0.98       205\n",
      "   macro avg       0.97      0.97      0.97       205\n",
      "weighted avg       0.98      0.98      0.98       205\n",
      "\n"
     ]
    }
   ],
   "source": [
    "print(classification_report(y_test, clf_rf.predict(x_test)))"
   ]
  },
  {
   "cell_type": "code",
   "execution_count": 167,
   "metadata": {},
   "outputs": [
    {
     "data": {
      "text/plain": [
       "LogisticRegression(solver='liblinear')"
      ]
     },
     "execution_count": 167,
     "metadata": {},
     "output_type": "execute_result"
    }
   ],
   "source": [
    "#logistic regression\n",
    "from sklearn.linear_model import LogisticRegression\n",
    "from sklearn import metrics\n",
    "\n",
    "logreg = LogisticRegression(solver = 'liblinear')\n",
    "logreg.fit(x_train, y_train)"
   ]
  },
  {
   "cell_type": "code",
   "execution_count": 168,
   "metadata": {},
   "outputs": [
    {
     "name": "stdout",
     "output_type": "stream",
     "text": [
      "Accuracy of logistic regression classifier on test set: 0.97\n"
     ]
    }
   ],
   "source": [
    "y_pred_lg = logreg.predict(x_test)\n",
    "print('Accuracy of logistic regression classifier on test set: {:.2f}'.format(logreg.score(x_test, y_test)))"
   ]
  },
  {
   "cell_type": "code",
   "execution_count": 169,
   "metadata": {},
   "outputs": [
    {
     "name": "stdout",
     "output_type": "stream",
     "text": [
      "Accuracy is:  0.9658536585365853\n"
     ]
    }
   ],
   "source": [
    "ac_lg = accuracy_score(y_test,logreg.predict(x_test))\n",
    "print('Accuracy is: ',ac_lg)"
   ]
  },
  {
   "cell_type": "code",
   "execution_count": 170,
   "metadata": {},
   "outputs": [
    {
     "name": "stdout",
     "output_type": "stream",
     "text": [
      "0.96 accuracy with a standard deviation of 0.03\n"
     ]
    }
   ],
   "source": [
    "score_lg = cross_val_score(logreg,X,y,scoring='accuracy')\n",
    "print(\"%0.2f accuracy with a standard deviation of %0.2f\" % (score_lg.mean(), score_lg.std()))"
   ]
  },
  {
   "cell_type": "code",
   "execution_count": 171,
   "metadata": {},
   "outputs": [
    {
     "name": "stdout",
     "output_type": "stream",
     "text": [
      "[[134   2]\n",
      " [  5  64]]\n"
     ]
    }
   ],
   "source": [
    "from sklearn.metrics import confusion_matrix\n",
    "confusion_matrix_lg = confusion_matrix(y_test, y_pred_lg)\n",
    "print(confusion_matrix_lg)"
   ]
  },
  {
   "cell_type": "code",
   "execution_count": 172,
   "metadata": {},
   "outputs": [
    {
     "name": "stdout",
     "output_type": "stream",
     "text": [
      "              precision    recall  f1-score   support\n",
      "\n",
      "           0       0.96      0.99      0.97       136\n",
      "           1       0.97      0.93      0.95        69\n",
      "\n",
      "    accuracy                           0.97       205\n",
      "   macro avg       0.97      0.96      0.96       205\n",
      "weighted avg       0.97      0.97      0.97       205\n",
      "\n"
     ]
    }
   ],
   "source": [
    "from sklearn.metrics import classification_report\n",
    "print(classification_report(y_test, y_pred_lg))"
   ]
  },
  {
   "cell_type": "code",
   "execution_count": 173,
   "metadata": {},
   "outputs": [
    {
     "data": {
      "text/plain": [
       "SVC()"
      ]
     },
     "execution_count": 173,
     "metadata": {},
     "output_type": "execute_result"
    }
   ],
   "source": [
    "#support vector machine\n",
    "from sklearn import svm\n",
    "clf=svm.SVC(gamma=\"scale\")\n",
    "clf.fit(x_train,y_train)"
   ]
  },
  {
   "cell_type": "code",
   "execution_count": 174,
   "metadata": {},
   "outputs": [],
   "source": [
    "predictions=clf.predict(x_test)"
   ]
  },
  {
   "cell_type": "code",
   "execution_count": 175,
   "metadata": {},
   "outputs": [
    {
     "name": "stdout",
     "output_type": "stream",
     "text": [
      "              precision    recall  f1-score   support\n",
      "\n",
      "           0       0.98      0.99      0.98       136\n",
      "           1       0.97      0.96      0.96        69\n",
      "\n",
      "    accuracy                           0.98       205\n",
      "   macro avg       0.97      0.97      0.97       205\n",
      "weighted avg       0.98      0.98      0.98       205\n",
      "\n"
     ]
    }
   ],
   "source": [
    "print(classification_report(y_test, predictions))"
   ]
  },
  {
   "cell_type": "code",
   "execution_count": 176,
   "metadata": {},
   "outputs": [
    {
     "name": "stdout",
     "output_type": "stream",
     "text": [
      "[[134   2]\n",
      " [  3  66]]\n"
     ]
    }
   ],
   "source": [
    "confusion_matrix_clf = confusion_matrix(y_test, predictions)\n",
    "print(confusion_matrix_clf)"
   ]
  },
  {
   "cell_type": "code",
   "execution_count": 180,
   "metadata": {},
   "outputs": [
    {
     "name": "stdout",
     "output_type": "stream",
     "text": [
      "Accuracy of support vector machine classifier on test set: 0.98\n"
     ]
    }
   ],
   "source": [
    "print('Accuracy of support vector machine classifier on test set: {:.2f}'.format(clf.score(x_test, y_test)))"
   ]
  },
  {
   "cell_type": "code",
   "execution_count": 181,
   "metadata": {},
   "outputs": [],
   "source": [
    "score_clf = cross_val_score(clf,X,y,scoring='accuracy')"
   ]
  },
  {
   "cell_type": "code",
   "execution_count": 182,
   "metadata": {},
   "outputs": [
    {
     "name": "stdout",
     "output_type": "stream",
     "text": [
      "0.97 accuracy with a standard deviation of 0.02\n"
     ]
    }
   ],
   "source": [
    "print(\"%0.2f accuracy with a standard deviation of %0.2f\" % (score_clf.mean(), score_clf.std()))"
   ]
  },
  {
   "cell_type": "code",
   "execution_count": 187,
   "metadata": {},
   "outputs": [],
   "source": [
    "from sklearn.model_selection import GridSearchCV\n",
    "def Classification_model_gridsearchCV(model,param_grid,data_X,data_y):\n",
    "    clf = GridSearchCV(model,param_grid,cv=10,scoring=\"accuracy\")\n",
    "    clf.fit(x_train,y_train)\n",
    "    print(\"The best parameter found on development set is :\")\n",
    "    print(clf.best_params_)\n",
    "    print(\"the bset estimator is \")\n",
    "    print(clf.best_estimator_)\n",
    "    print(\"The best score is \")\n",
    "    print(clf.best_score_)"
   ]
  },
  {
   "cell_type": "code",
   "execution_count": 189,
   "metadata": {},
   "outputs": [
    {
     "name": "stdout",
     "output_type": "stream",
     "text": [
      "The best parameter found on development set is :\n",
      "{'C': 1000, 'gamma': 0.0001, 'kernel': 'rbf'}\n",
      "the bset estimator is \n",
      "SVC(C=1000, gamma=0.0001)\n",
      "The best score is \n",
      "0.9684840425531915\n"
     ]
    }
   ],
   "source": [
    "param_grid = [\n",
    "              {'C': [1, 10, 100, 1000], \n",
    "               'kernel': ['linear']\n",
    "              },\n",
    "              {'C': [1, 10, 100, 1000], \n",
    "               'gamma': [0.001, 0.0001], \n",
    "               'kernel': ['rbf']\n",
    "              },\n",
    " ]\n",
    "Classification_model_gridsearchCV(clf,param_grid,X,y)\n",
    "#we get worse accuracy,which eans that the default parametrs are better than the chosen ones."
   ]
  },
  {
   "cell_type": "code",
   "execution_count": null,
   "metadata": {},
   "outputs": [],
   "source": []
  }
 ],
 "metadata": {
  "kernelspec": {
   "display_name": "Python 3",
   "language": "python",
   "name": "python3"
  },
  "language_info": {
   "codemirror_mode": {
    "name": "ipython",
    "version": 3
   },
   "file_extension": ".py",
   "mimetype": "text/x-python",
   "name": "python",
   "nbconvert_exporter": "python",
   "pygments_lexer": "ipython3",
   "version": "3.8.5"
  }
 },
 "nbformat": 4,
 "nbformat_minor": 4
}
